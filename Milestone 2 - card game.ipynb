{
 "cells": [
  {
   "cell_type": "markdown",
   "id": "0ab04bc5",
   "metadata": {},
   "source": [
    "Here are the requirements:\n",
    "\n",
    "You need to create a simple text-based BlackJack game\n",
    "The game needs to have one player versus an automated dealer.\n",
    "The player can stand or hit.\n",
    "The player must be able to pick their betting amount.\n",
    "You need to keep track of the player's total money.\n",
    "You need to alert the player of wins, losses, or busts, etc...\n",
    "And most importantly:"
   ]
  },
  {
   "cell_type": "code",
   "execution_count": 1,
   "id": "33854862",
   "metadata": {},
   "outputs": [],
   "source": [
    "from random import shuffle"
   ]
  },
  {
   "cell_type": "code",
   "execution_count": 7,
   "id": "242987f9",
   "metadata": {},
   "outputs": [],
   "source": [
    "suits=[\"spades\",\"diamonds\",\"clubs\",\"hearts\"]\n",
    "ranks=[\"two\",\"three\",\"four\",\"five\",\"six\",\"seven\",\"eight\",\"nine\",\"ten\",\"jack\",\"queen\",\"king\",\"ace\"]\n",
    "values={\"two\":2,\"three\":3,\"four\":4,\"five\":5,\"six\":6,\"seven\":7,\"eight\":8,\"nine\":9,\"ten\":10,\"jack\":10,\"queen\":10,\"king\":10,\"ace\":[1,11]}\n",
    "\n",
    "class Cards:\n",
    "    '''\n",
    "    creates a card object\n",
    "    '''\n",
    "    def __init__(self, suits, ranks):\n",
    "        self.suits=suits\n",
    "        self.ranks=ranks\n",
    "        self.value=values[ranks]\n",
    "    \n",
    "    def __str__(self):\n",
    "        return self.ranks + ' of ' + self.suits"
   ]
  },
  {
   "cell_type": "code",
   "execution_count": 8,
   "id": "33fdb3ae",
   "metadata": {},
   "outputs": [
    {
     "name": "stdout",
     "output_type": "stream",
     "text": [
      "[1, 11]\n"
     ]
    }
   ],
   "source": [
    "#check that the card class works at assigning card values\n",
    "card_ex1=Cards(suits[0],ranks[12])\n",
    "print(card_ex1.value)\n"
   ]
  },
  {
   "cell_type": "code",
   "execution_count": 9,
   "id": "de5b0592",
   "metadata": {},
   "outputs": [],
   "source": [
    "class Deck:\n",
    "    '''\n",
    "    creates a 52 card deck object. Note, only use this once, as it will create the deck\n",
    "    '''\n",
    "    def __init__(self):\n",
    "        self.all_cards=[]\n",
    "        for rank in ranks:\n",
    "            for suit in suits:\n",
    "                card = Cards(suit,rank)\n",
    "                self.all_cards.append(card)\n",
    "    \n",
    "    def shuffleDeck(self):\n",
    "        shuffle(self.all_cards) #shuffles the indices in memory, does not require return or reassignment\n",
    "    \n",
    "    def selectOne(self):\n",
    "        return self.all_cards.pop()"
   ]
  },
  {
   "cell_type": "code",
   "execution_count": 11,
   "id": "f2af4c92",
   "metadata": {},
   "outputs": [
    {
     "name": "stdout",
     "output_type": "stream",
     "text": [
      "7 52\n"
     ]
    }
   ],
   "source": [
    "#create deck \n",
    "deck=Deck()\n",
    "#print(deck.all_cards[0])\n",
    "#print(deck.selectOne())\\\n",
    "#shuffle immediately\n",
    "deck.shuffleDeck()\n",
    "print(deck.all_cards[0].value, len(deck.all_cards))"
   ]
  },
  {
   "cell_type": "code",
   "execution_count": 12,
   "id": "88ccc8a8",
   "metadata": {},
   "outputs": [],
   "source": [
    "a=deck.selectOne()"
   ]
  },
  {
   "cell_type": "code",
   "execution_count": 13,
   "id": "9c6eb967",
   "metadata": {},
   "outputs": [
    {
     "name": "stdout",
     "output_type": "stream",
     "text": [
      "ten of diamonds\n"
     ]
    }
   ],
   "source": [
    "print(a)"
   ]
  },
  {
   "cell_type": "code",
   "execution_count": 25,
   "id": "2e39a85b",
   "metadata": {},
   "outputs": [],
   "source": [
    "#player/dealer class\n",
    "class Player():\n",
    "    def __init__(self,name):\n",
    "        self.name=name\n",
    "        self.all_cards=[] #this list differs from the one in Deck class. This one serves as the players hands\n",
    "        self.sum_cards=0\n",
    "        \n",
    "    def add_cards(self,new_cards):\n",
    "        self.all_cards.append(new_cards)\n",
    "        print(f\"{self.name} card {len(self.all_cards)}: {new_cards}\")\n",
    "    \n",
    "    def show_hands(self):\n",
    "        for i in range(len(self.all_cards)):\n",
    "            print(f\"card {i+1} is {self.all_cards[i]}\")\n",
    "     \n",
    "    def sum_hand(self):\n",
    "        self.sum_cards=0 #resets to 0 everytime this method is called\n",
    "        if len(self.all_cards)>=2:\n",
    "            for i in range(len(self.all_cards)):\n",
    "                if self.all_cards[i].ranks == \"ace\":\n",
    "                    print(f\"{self.name} please confirm desired value of 'ace' card\")\n",
    "                    try:\n",
    "                        ace_choice=int(input(\"input '0' for value of 1, and '1' for value of 11: \"))\n",
    "                    except:\n",
    "                        print(\"enter an INTEGER, you dingus!\")\n",
    "                        ace_choice=int(input(\"input '0' for value of 1, and '1' for value of 11: \"))\n",
    "                    self.sum_cards += self.all_cards[i].value[ace_choice]\n",
    "                else:\n",
    "                    self.sum_cards += self.all_cards[i].value\n",
    "        elif len(self.all_cards)<=1:\n",
    "            try:\n",
    "                self.sum_cards=self.all_cards[0].value\n",
    "            except:\n",
    "                pass\n",
    "        print(f\"the current sum for your {len(self.all_cards)} cards is {self.sum_cards}\")\n",
    "        \n",
    "    def __str__(self):\n",
    "        return f\"{self.name} deck of {len(self.all_cards)} cards has a sum of {self.sum_cards}\" #{[print(i) for i in self.all_cards]}\""
   ]
  },
  {
   "cell_type": "code",
   "execution_count": 15,
   "id": "3c22f012",
   "metadata": {},
   "outputs": [
    {
     "name": "stdout",
     "output_type": "stream",
     "text": [
      "fabio deck of 0 cards has a sum of 0\n"
     ]
    }
   ],
   "source": [
    "player1=Player(\"fabio\")\n",
    "print(player1)"
   ]
  },
  {
   "cell_type": "code",
   "execution_count": 16,
   "id": "7cfc5cb5",
   "metadata": {},
   "outputs": [
    {
     "name": "stdout",
     "output_type": "stream",
     "text": [
      "fabio got card: ace of spades\n",
      "fabio got card: ace of hearts\n"
     ]
    }
   ],
   "source": [
    "for i in range(2):\n",
    "    player1.add_cards(deck.selectOne())\n"
   ]
  },
  {
   "cell_type": "code",
   "execution_count": 17,
   "id": "34d95634",
   "metadata": {},
   "outputs": [
    {
     "data": {
      "text/plain": [
       "True"
      ]
     },
     "execution_count": 17,
     "metadata": {},
     "output_type": "execute_result"
    }
   ],
   "source": [
    "any(x.ranks==\"ace\" for x in player1.all_cards)  ## check to see if any ranks \"three present in list of player1's all_cards attribute\""
   ]
  },
  {
   "cell_type": "code",
   "execution_count": 18,
   "id": "527d93ec",
   "metadata": {},
   "outputs": [
    {
     "name": "stdout",
     "output_type": "stream",
     "text": [
      "[1, 11]\n"
     ]
    }
   ],
   "source": [
    "print(player1.all_cards[1].value)"
   ]
  },
  {
   "cell_type": "code",
   "execution_count": 19,
   "id": "f0cef519",
   "metadata": {},
   "outputs": [
    {
     "name": "stdout",
     "output_type": "stream",
     "text": [
      "0 ace of spades\n",
      "1 ace of hearts\n"
     ]
    }
   ],
   "source": [
    "for i in range(len(player1.all_cards)):\n",
    "    print(i, player1.all_cards[i])"
   ]
  },
  {
   "cell_type": "code",
   "execution_count": 20,
   "id": "e972e38a",
   "metadata": {},
   "outputs": [
    {
     "name": "stdout",
     "output_type": "stream",
     "text": [
      "fabio please confirm desired value of 'ace' card\n",
      "input '0' for value of 1, and '1' for value of 11: 1\n",
      "fabio please confirm desired value of 'ace' card\n",
      "input '0' for value of 1, and '1' for value of 11: 1\n",
      "the current sum for your 2 cards is 22\n"
     ]
    }
   ],
   "source": [
    "player1.sum_hand()"
   ]
  },
  {
   "cell_type": "code",
   "execution_count": 21,
   "id": "95a966e7",
   "metadata": {},
   "outputs": [
    {
     "name": "stdout",
     "output_type": "stream",
     "text": [
      "fabio deck of 2 cards has a sum of 22\n"
     ]
    }
   ],
   "source": [
    "print(player1)"
   ]
  },
  {
   "cell_type": "code",
   "execution_count": 22,
   "id": "940650fe",
   "metadata": {},
   "outputs": [
    {
     "name": "stdout",
     "output_type": "stream",
     "text": [
      "card 1 is ace of spades\n",
      "card 2 is ace of hearts\n"
     ]
    }
   ],
   "source": [
    "player1.show_hands()"
   ]
  },
  {
   "cell_type": "markdown",
   "id": "885fe087",
   "metadata": {},
   "source": [
    "# GAME"
   ]
  },
  {
   "cell_type": "code",
   "execution_count": 94,
   "id": "ba7d5951",
   "metadata": {},
   "outputs": [
    {
     "name": "stdout",
     "output_type": "stream",
     "text": [
      "commencing game with Fabio\n",
      "Fabio deck of 0 cards has a sum of 0\n",
      "Dealer deck of 0 cards has a sum of 0\n"
     ]
    }
   ],
   "source": [
    "#create player\n",
    "#player_name=input(\"Input the player's name? \")\n",
    "player=Player(\"Fabio\")\n",
    "\n",
    "#create dealer\n",
    "dealer=Player(\"Dealer\")\n",
    "\n",
    "#create deck and shuffle\n",
    "game_deck=Deck()\n",
    "game_deck.shuffleDeck()\n",
    "\n",
    "#start\n",
    "print(f\"commencing game with {player.name}\")\n",
    "print(player)\n",
    "print(dealer)"
   ]
  },
  {
   "cell_type": "code",
   "execution_count": 95,
   "id": "58ebe16f",
   "metadata": {},
   "outputs": [
    {
     "name": "stdout",
     "output_type": "stream",
     "text": [
      "Fabio card 1: ace of hearts\n",
      "Fabio card 2: ace of clubs\n",
      "Fabio please confirm desired value of 'ace' card\n",
      "input '0' for value of 1, and '1' for value of 11: 1\n",
      "Fabio please confirm desired value of 'ace' card\n",
      "input '0' for value of 1, and '1' for value of 11: 0\n",
      "the current sum for your 2 cards is 12\n"
     ]
    }
   ],
   "source": [
    "#add two cards to dealer and two cards to player 1 to start\n",
    "for i in range(2):\n",
    "    player.add_cards(game_deck.selectOne())\n",
    "player.sum_hand()       "
   ]
  },
  {
   "cell_type": "code",
   "execution_count": 97,
   "id": "101a9dc9",
   "metadata": {},
   "outputs": [
    {
     "name": "stdout",
     "output_type": "stream",
     "text": [
      "Dealer card 1: three of clubs\n",
      "Dealer card 2: eight of hearts\n",
      "the current sum for your 2 cards is 11\n"
     ]
    }
   ],
   "source": [
    "for i in range(2):    \n",
    "    dealer.add_cards(game_deck.selectOne())\n",
    "dealer.sum_hand()"
   ]
  },
  {
   "cell_type": "code",
   "execution_count": 101,
   "id": "43a59afb",
   "metadata": {},
   "outputs": [
    {
     "name": "stdout",
     "output_type": "stream",
     "text": [
      "Fabio  hit?\n",
      "Y or NY\n",
      "Fabio card 3: queen of diamonds\n",
      "Fabio please confirm desired value of 'ace' card\n",
      "input '0' for value of 1, and '1' for value of 11: 1\n",
      "Fabio please confirm desired value of 'ace' card\n",
      "input '0' for value of 1, and '1' for value of 11: 1\n",
      "the current sum for your 3 cards is 32\n",
      "Fabio  loses!\n",
      "Dealer  hit?\n",
      "Y or N\n",
      "Dealer  hit?\n",
      "Y or N\n",
      "Dealer  hit?\n",
      "Y or N\n",
      "Dealer  hit?\n",
      "Y or N\n",
      "Dealer  hit?\n",
      "Y or N\n",
      "Dealer  hit?\n",
      "Y or N\n",
      "Dealer  hit?\n",
      "Y or N\n",
      "Dealer  hit?\n",
      "Y or N\n",
      "Dealer  hit?\n",
      "Y or NY\n",
      "Dealer card 3: seven of diamonds\n",
      "the current sum for your 3 cards is 18\n",
      "Dealer card 4: king of diamonds\n",
      "the current sum for your 4 cards is 28\n",
      "Dealer  loses!\n"
     ]
    }
   ],
   "source": [
    "game_on=True\n",
    "\n",
    "#check for black jack (A + (10,J,Q, or K)). print winner, set game_on to False and break from if statement.\n",
    "for x in [player,dealer]: #use of polymorphism to call same class method or attribute\n",
    "    if x.all_cards[0].ranks == \"ace\" and x.all_cards[1].ranks in [\"ten\",\"jack\",\"queen\",\"king\"]:\n",
    "        print(f\"{turn.name} has a Black Jack. Winner!\")\n",
    "        game_on=False\n",
    "        break\n",
    "    elif x.all_cards[0].ranks in [\"ten\",\"jack\",\"queen\",\"king\"] and x.all_cards[1].ranks == \"ace\" :\n",
    "        print(f\"{turn.name} has a Black Jack. Winner!\")\n",
    "        game_on=False\n",
    "        break\n",
    "\n",
    "    #grab sum of player cards. If less than \n",
    "    else:\n",
    "        for x in [player,dealer]:\n",
    "            while x.sum_cards < 21:\n",
    "                print(x.name,\" hit?\")\n",
    "                draw_selection=input(\"Y or N\").capitalize()\n",
    "                while draw_selection == \"Y\" and x.sum_cards < 21:\n",
    "                    x.add_cards(game_deck.selectOne())\n",
    "                    x.sum_hand()\n",
    "                    if x.sum_cards == 21:\n",
    "                        print(x.name,\" wins!\")\n",
    "                    if x.sum_cards > 21:\n",
    "                        print(x.name,\" loses!\")\n"
   ]
  },
  {
   "cell_type": "code",
   "execution_count": null,
   "id": "7bf500d3",
   "metadata": {},
   "outputs": [],
   "source": []
  }
 ],
 "metadata": {
  "kernelspec": {
   "display_name": "Python 3 (ipykernel)",
   "language": "python",
   "name": "python3"
  },
  "language_info": {
   "codemirror_mode": {
    "name": "ipython",
    "version": 3
   },
   "file_extension": ".py",
   "mimetype": "text/x-python",
   "name": "python",
   "nbconvert_exporter": "python",
   "pygments_lexer": "ipython3",
   "version": "3.11.3"
  }
 },
 "nbformat": 4,
 "nbformat_minor": 5
}
