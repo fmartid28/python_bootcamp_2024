{
 "cells": [
  {
   "cell_type": "markdown",
   "metadata": {},
   "source": [
    "___\n",
    "\n",
    "<a href='https://www.udemy.com/user/joseportilla/'><img src='../../Pierian_Data_Logo.png'/></a>\n",
    "___\n",
    "<center><em>Content Copyright by Pierian Data</em></center>"
   ]
  },
  {
   "cell_type": "markdown",
   "metadata": {},
   "source": [
    "# Advanced Modules Exercise Puzzle\n",
    "\n",
    "It's time to test your new skills, this puzzle project will combine multiple skills sets, including unzipping files with Python, using os module to automatically search through lots of files.\n",
    "\n",
    "## Your Goal\n",
    "\n",
    "This is a puzzle, so we don't want to give you too much guidance and instead have you figure out things on your own.\n",
    "\n",
    "There is a .zip file called 'unzip_me_for_instructions.zip', unzip it, open the .txt file with Python, read the instructions and see if you can figure out what you need to do!\n",
    "\n",
    "**If you get stuck or don't know where to start, here is a [guide/hints](https://docs.google.com/document/d/1JxydUr4n4fSR0EwwuwT-aHia-yPK6r-oTBuVT2sqheo/edit?usp=sharing)**"
   ]
  },
  {
   "cell_type": "code",
   "execution_count": 1,
   "metadata": {},
   "outputs": [],
   "source": [
    "#unzip file\n",
    "import zipfile"
   ]
  },
  {
   "cell_type": "code",
   "execution_count": 3,
   "metadata": {},
   "outputs": [],
   "source": [
    "uncomp_file=zipfile.ZipFile('unzip_me_for_instructions.zip','r') #open this command in read method to uncompress, or write to compress"
   ]
  },
  {
   "cell_type": "code",
   "execution_count": 5,
   "metadata": {},
   "outputs": [],
   "source": [
    "#extract a single file or all, and choose a folder to send to (folder will be created)\n",
    "uncomp_file.extractall('extracted_folder')"
   ]
  },
  {
   "cell_type": "code",
   "execution_count": 6,
   "metadata": {},
   "outputs": [],
   "source": [
    "import os"
   ]
  },
  {
   "cell_type": "code",
   "execution_count": 117,
   "metadata": {},
   "outputs": [],
   "source": [
    "os.chdir(\"/Users/fabiomartinez/Desktop/extracted_content/\")"
   ]
  },
  {
   "cell_type": "code",
   "execution_count": 118,
   "metadata": {},
   "outputs": [],
   "source": [
    "CWD = os.getcwd()"
   ]
  },
  {
   "cell_type": "code",
   "execution_count": 119,
   "metadata": {},
   "outputs": [
    {
     "data": {
      "text/plain": [
       "['Instructions.txt', 'Three', 'One', 'Two', 'Five', 'Four']"
      ]
     },
     "execution_count": 119,
     "metadata": {},
     "output_type": "execute_result"
    }
   ],
   "source": [
    "os.listdir()"
   ]
  },
  {
   "cell_type": "code",
   "execution_count": 17,
   "metadata": {},
   "outputs": [],
   "source": [
    "import re"
   ]
  },
  {
   "cell_type": "code",
   "execution_count": 76,
   "metadata": {},
   "outputs": [
    {
     "name": "stdout",
     "output_type": "stream",
     "text": [
      "Good work on unzipping the file!\n",
      "You should now see 5 folders, each with a lot of random .txt files.\n",
      "Within one of these text files is a telephone number formated ###-###-#### \n",
      "Use the Python os module and regular expressions to iterate through each file, open it, and search for a telephone number.\n",
      "Good luck!\n",
      "None\n",
      "<class 'list'>\n"
     ]
    }
   ],
   "source": [
    "with open(\"Instructions.txt\") as file:\n",
    "    print(file.read())\n",
    "    file.seek(0)\n",
    "    x=re.search(\"escape\",file.read())\n",
    "    file.seek(0)\n",
    "    print(x)\n",
    "    y=re.findall(\"escape\",file.read())\n",
    "    file.seek(0)\n",
    "    print(type(y))\n",
    "    "
   ]
  },
  {
   "cell_type": "code",
   "execution_count": 145,
   "metadata": {},
   "outputs": [],
   "source": [
    "#cut the above script short to only print the current folder and its files\n",
    "#while at each file, open and read file\n",
    "#if condition to search for regex"
   ]
  },
  {
   "cell_type": "code",
   "execution_count": 99,
   "metadata": {},
   "outputs": [],
   "source": [
    "cwd=os.getcwd()"
   ]
  },
  {
   "cell_type": "code",
   "execution_count": 144,
   "metadata": {},
   "outputs": [
    {
     "name": "stdout",
     "output_type": "stream",
     "text": [
      "the current working directory is /Users/fabiomartinez/Desktop/extracted_content/Four\n",
      "file: EMTGPSXQEJX.txt contains regex ['719-266-2837']\n"
     ]
    }
   ],
   "source": [
    "#locates file containing a regex of a phone number:\n",
    "\n",
    "for fold,subfold,files in os.walk(CWD):\n",
    "    #print(f\"the current working directory is {fold}\\n\")\n",
    "    for f in files:\n",
    "        cur_dir=f\"{fold}/{f}\"\n",
    "        file=open(cur_dir,'r')\n",
    "        text=file.read()\n",
    "        regex_findall =re.findall(r'\\d{3}-\\d{3}-\\d{4}',text)\n",
    "        if regex_findall != []:\n",
    "            print(f\"the current working directory is {fold}\")\n",
    "            print(f\"file: {f} contains regex {regex_findall}\")\n",
    "            #text.seek(0)\n",
    "            regex_find=re.findall(r\"\\d{3}-\\d{3}-\\d{4}\",f\"{txt}\")"
   ]
  }
 ],
 "metadata": {
  "anaconda-cloud": {},
  "kernelspec": {
   "display_name": "Python 3 (ipykernel)",
   "language": "python",
   "name": "python3"
  },
  "language_info": {
   "codemirror_mode": {
    "name": "ipython",
    "version": 3
   },
   "file_extension": ".py",
   "mimetype": "text/x-python",
   "name": "python",
   "nbconvert_exporter": "python",
   "pygments_lexer": "ipython3",
   "version": "3.11.3"
  }
 },
 "nbformat": 4,
 "nbformat_minor": 2
}
