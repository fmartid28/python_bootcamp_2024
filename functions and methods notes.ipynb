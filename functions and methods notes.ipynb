{
 "cells": [
  {
   "cell_type": "code",
   "execution_count": 18,
   "id": "0b13813c",
   "metadata": {},
   "outputs": [],
   "source": [
    "from random import randint\n",
    "\n",
    "def guess_times_Steph_burped():\n",
    "    print(f'Stephanie has burped {randint(0,100)+100} times today')"
   ]
  },
  {
   "cell_type": "code",
   "execution_count": 19,
   "id": "b4598992",
   "metadata": {},
   "outputs": [
    {
     "name": "stdout",
     "output_type": "stream",
     "text": [
      "Stephanie has burped 175 times today\n"
     ]
    }
   ],
   "source": [
    "guess_times_Steph_burped()"
   ]
  },
  {
   "cell_type": "code",
   "execution_count": 21,
   "id": "45e41858",
   "metadata": {},
   "outputs": [],
   "source": [
    "a= (1,2,3,4,5,6)"
   ]
  },
  {
   "cell_type": "code",
   "execution_count": 27,
   "id": "b1f17a78",
   "metadata": {},
   "outputs": [
    {
     "data": {
      "text/plain": [
       "3"
      ]
     },
     "execution_count": 27,
     "metadata": {},
     "output_type": "execute_result"
    }
   ],
   "source": [
    "sum((1,2))"
   ]
  },
  {
   "cell_type": "code",
   "execution_count": 28,
   "id": "8c691468",
   "metadata": {},
   "outputs": [],
   "source": [
    "def myfunc(*args):\n",
    "    print(args)"
   ]
  },
  {
   "cell_type": "code",
   "execution_count": 29,
   "id": "37363604",
   "metadata": {},
   "outputs": [
    {
     "name": "stdout",
     "output_type": "stream",
     "text": [
      "(2, 4, 5, 3, 2)\n"
     ]
    }
   ],
   "source": [
    "myfunc(2,4,5,3,2)"
   ]
  },
  {
   "cell_type": "code",
   "execution_count": 32,
   "id": "5fb31642",
   "metadata": {},
   "outputs": [],
   "source": [
    "def myfunc(*args):\n",
    "    return [num for num in args if num%2==0]"
   ]
  },
  {
   "cell_type": "code",
   "execution_count": 33,
   "id": "9a3038d7",
   "metadata": {},
   "outputs": [
    {
     "data": {
      "text/plain": [
       "[2, 4]"
      ]
     },
     "execution_count": 33,
     "metadata": {},
     "output_type": "execute_result"
    }
   ],
   "source": [
    "myfunc(2,4,5)"
   ]
  },
  {
   "cell_type": "code",
   "execution_count": 34,
   "id": "2b83facd",
   "metadata": {},
   "outputs": [],
   "source": [
    "s='hrllo'"
   ]
  },
  {
   "cell_type": "code",
   "execution_count": 35,
   "id": "28918d78",
   "metadata": {},
   "outputs": [
    {
     "ename": "TypeError",
     "evalue": "'str' object does not support item assignment",
     "output_type": "error",
     "traceback": [
      "\u001b[0;31m---------------------------------------------------------------------------\u001b[0m",
      "\u001b[0;31mTypeError\u001b[0m                                 Traceback (most recent call last)",
      "Cell \u001b[0;32mIn[35], line 1\u001b[0m\n\u001b[0;32m----> 1\u001b[0m s[\u001b[38;5;241m3\u001b[39m]\u001b[38;5;241m=\u001b[39m\u001b[38;5;124m'\u001b[39m\u001b[38;5;124my\u001b[39m\u001b[38;5;124m'\u001b[39m\n",
      "\u001b[0;31mTypeError\u001b[0m: 'str' object does not support item assignment"
     ]
    }
   ],
   "source": [
    "s[3]='y'"
   ]
  },
  {
   "cell_type": "code",
   "execution_count": 36,
   "id": "6d0ff3d2",
   "metadata": {},
   "outputs": [
    {
     "data": {
      "text/plain": [
       "'HRLLO'"
      ]
     },
     "execution_count": 36,
     "metadata": {},
     "output_type": "execute_result"
    }
   ],
   "source": [
    "s.upper()"
   ]
  },
  {
   "cell_type": "code",
   "execution_count": 37,
   "id": "98c15168",
   "metadata": {},
   "outputs": [
    {
     "data": {
      "text/plain": [
       "'hrllo'"
      ]
     },
     "execution_count": 37,
     "metadata": {},
     "output_type": "execute_result"
    }
   ],
   "source": [
    "s.lower()"
   ]
  },
  {
   "cell_type": "code",
   "execution_count": 40,
   "id": "c21c35da",
   "metadata": {},
   "outputs": [
    {
     "data": {
      "text/plain": [
       "'H'"
      ]
     },
     "execution_count": 40,
     "metadata": {},
     "output_type": "execute_result"
    }
   ],
   "source": [
    "s[0].upper()"
   ]
  },
  {
   "cell_type": "code",
   "execution_count": 41,
   "id": "4ff2fab8",
   "metadata": {},
   "outputs": [
    {
     "data": {
      "text/plain": [
       "'hrllo'"
      ]
     },
     "execution_count": 41,
     "metadata": {},
     "output_type": "execute_result"
    }
   ],
   "source": [
    "s"
   ]
  },
  {
   "cell_type": "code",
   "execution_count": 43,
   "id": "5873d6c9",
   "metadata": {},
   "outputs": [
    {
     "name": "stdout",
     "output_type": "stream",
     "text": [
      "h\n",
      "r\n",
      "l\n",
      "l\n",
      "o\n"
     ]
    }
   ],
   "source": [
    "for letter in s:\n",
    "    print(letter)"
   ]
  },
  {
   "cell_type": "code",
   "execution_count": 51,
   "id": "648143fa",
   "metadata": {},
   "outputs": [
    {
     "name": "stdout",
     "output_type": "stream",
     "text": [
      "HrLlO\n"
     ]
    }
   ],
   "source": [
    "empty_string=\"\"\n",
    "for i in range(len(s)):\n",
    "        if i%2==0:\n",
    "            empty_string += s[i].upper()\n",
    "        else:\n",
    "            empty_string += s[i]\n",
    "print(empty_string)"
   ]
  },
  {
   "cell_type": "code",
   "execution_count": null,
   "id": "1442f55e",
   "metadata": {},
   "outputs": [],
   "source": []
  }
 ],
 "metadata": {
  "kernelspec": {
   "display_name": "Python 3 (ipykernel)",
   "language": "python",
   "name": "python3"
  },
  "language_info": {
   "codemirror_mode": {
    "name": "ipython",
    "version": 3
   },
   "file_extension": ".py",
   "mimetype": "text/x-python",
   "name": "python",
   "nbconvert_exporter": "python",
   "pygments_lexer": "ipython3",
   "version": "3.11.3"
  }
 },
 "nbformat": 4,
 "nbformat_minor": 5
}
