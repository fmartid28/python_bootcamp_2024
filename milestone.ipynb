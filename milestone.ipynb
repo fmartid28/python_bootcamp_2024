{
 "cells": [
  {
   "cell_type": "code",
   "execution_count": 43,
   "id": "0f5829d7",
   "metadata": {},
   "outputs": [],
   "source": [
    "from IPython.display import clear_output"
   ]
  },
  {
   "cell_type": "code",
   "execution_count": 71,
   "id": "08baf0e4",
   "metadata": {},
   "outputs": [],
   "source": [
    "#initialize an empty array of 9 \n",
    "a=[\"\"]*9\n",
    "\n",
    "def board_disp():\n",
    "    clear_output()\n",
    "    print(\"Tic Tac Toe\")\n",
    "    \n",
    "    print(f' {a[0]}   |  {a[1]}   |  {a[2]}  ')\n",
    "    print(' --------------')\n",
    "    print(f' {a[3]}   |  {a[4]}   |  {a[5]}  ')\n",
    "    print(' --------------')\n",
    "    print(f' {a[6]}   |  {a[7]}   |  {a[8]}  ')\n",
    "    "
   ]
  },
  {
   "cell_type": "code",
   "execution_count": 96,
   "id": "5ddad6e0",
   "metadata": {},
   "outputs": [
    {
     "name": "stdout",
     "output_type": "stream",
     "text": [
      "Tic Tac Toe\n",
      "    |     |    \n",
      " --------------\n",
      "    |     |    \n",
      " --------------\n",
      "    |     |    \n"
     ]
    }
   ],
   "source": [
    "board_disp()"
   ]
  },
  {
   "cell_type": "code",
   "execution_count": 110,
   "id": "dc32a171",
   "metadata": {},
   "outputs": [],
   "source": [
    "def marker_select():\n",
    "    marker = ''\n",
    "    \n",
    "    while marker not in ['x','o']:  \n",
    "        \n",
    "        marker=input('player 1 select marker x or o: ')\n",
    "        \n",
    "        player1=marker\n",
    "        \n",
    "        if player1=='x':\n",
    "            player2='o'\n",
    "        else:\n",
    "            player2='x'          \n",
    "        \n",
    "    return player1,player2  \n",
    "    "
   ]
  },
  {
   "cell_type": "code",
   "execution_count": 114,
   "id": "cbf668a1",
   "metadata": {},
   "outputs": [
    {
     "name": "stdout",
     "output_type": "stream",
     "text": [
      "player 1 select marker x or o: o\n"
     ]
    }
   ],
   "source": [
    "player1,player2=marker_select()\n",
    "#print(player1, player2)"
   ]
  },
  {
   "cell_type": "code",
   "execution_count": 92,
   "id": "f67edfa1",
   "metadata": {},
   "outputs": [],
   "source": [
    "#user input \n",
    "    #validation of int and range. Either within a range or \"(e.g.) x in list=[1,2,3]\"\n",
    "def spot_select():\n",
    "    #could be any variable other than the numbers in the range needed\n",
    "    #initialize user input as wrong\n",
    "    user_in=\"wrong\" \n",
    "\n",
    "    #checks if user input is digit within range\n",
    "    while user_in not in range(1,10): \n",
    "        \n",
    "        \n",
    "        user_in=input(\"choose a number between 1-9 (from top left to bottom right): \")\n",
    "        \n",
    "        #check if digit\n",
    "        if user_in.isdigit()and int(user_in) in range(1,10):\n",
    "            #convert input string to int if input .isdigit()\n",
    "            user_in=int(user_in)\n",
    "            clear_output()\n",
    "            print(f'You\\'ve selected number {user_in}')\n",
    "            return user_in\n",
    "        else:\n",
    "            print(f'{user_in} is not a numerical input or between 1 and 9')"
   ]
  },
  {
   "cell_type": "code",
   "execution_count": 94,
   "id": "2244fbc4",
   "metadata": {},
   "outputs": [
    {
     "name": "stdout",
     "output_type": "stream",
     "text": [
      "You've selected number 7\n"
     ]
    },
    {
     "data": {
      "text/plain": [
       "7"
      ]
     },
     "execution_count": 94,
     "metadata": {},
     "output_type": "execute_result"
    }
   ],
   "source": [
    "spot_select()"
   ]
  },
  {
   "cell_type": "code",
   "execution_count": 57,
   "id": "927b6c63",
   "metadata": {},
   "outputs": [
    {
     "ename": "SyntaxError",
     "evalue": "incomplete input (4134868227.py, line 3)",
     "output_type": "error",
     "traceback": [
      "\u001b[0;36m  Cell \u001b[0;32mIn[57], line 3\u001b[0;36m\u001b[0m\n\u001b[0;31m    \u001b[0m\n\u001b[0m    ^\u001b[0m\n\u001b[0;31mSyntaxError\u001b[0m\u001b[0;31m:\u001b[0m incomplete input\n"
     ]
    }
   ],
   "source": [
    "#board display update given selected game_in index\n",
    "def board_update():\n",
    "    \n",
    "    #call for user selection\n",
    "    user_input=spot_select()\n",
    "    \n",
    "    #update cell\n",
    "    a[user_input]=\n",
    "    "
   ]
  },
  {
   "cell_type": "code",
   "execution_count": null,
   "id": "38c1be24",
   "metadata": {},
   "outputs": [],
   "source": []
  }
 ],
 "metadata": {
  "kernelspec": {
   "display_name": "Python 3 (ipykernel)",
   "language": "python",
   "name": "python3"
  },
  "language_info": {
   "codemirror_mode": {
    "name": "ipython",
    "version": 3
   },
   "file_extension": ".py",
   "mimetype": "text/x-python",
   "name": "python",
   "nbconvert_exporter": "python",
   "pygments_lexer": "ipython3",
   "version": "3.11.3"
  }
 },
 "nbformat": 4,
 "nbformat_minor": 5
}
