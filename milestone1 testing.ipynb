{
 "cells": [
  {
   "cell_type": "code",
   "execution_count": 15,
   "id": "0f5829d7",
   "metadata": {},
   "outputs": [],
   "source": [
    "from IPython.display import clear_output"
   ]
  },
  {
   "cell_type": "code",
   "execution_count": 134,
   "id": "08baf0e4",
   "metadata": {},
   "outputs": [],
   "source": [
    "#initialize an empty array with range of 9 digits, here its 0 to 8\n",
    "\n",
    "#default range is 0 to 8\n",
    "def board_disp(a=list(range(0,9))):\n",
    "    clear_output() #only works in jupyter\n",
    "    print(\"Tic Tac Toe\")\n",
    "    \n",
    "    print(f' {a[0]}   |  {a[1]}   |  {a[2]}  ')\n",
    "    print(' --------------')\n",
    "    print(f' {a[3]}   |  {a[4]}   |  {a[5]}  ')\n",
    "    print(' --------------')\n",
    "    print(f' {a[6]}   |  {a[7]}   |  {a[8]}  ')\n",
    "    board_list = a\n",
    "    return board_list #i.e. spots on board corresponding to number. see print    "
   ]
  },
  {
   "cell_type": "code",
   "execution_count": 135,
   "id": "5ddad6e0",
   "metadata": {},
   "outputs": [
    {
     "name": "stdout",
     "output_type": "stream",
     "text": [
      "Tic Tac Toe\n",
      " 0   |  1   |  2  \n",
      " --------------\n",
      " 3   |  4   |  5  \n",
      " --------------\n",
      " 6   |  7   |  8  \n"
     ]
    },
    {
     "data": {
      "text/plain": [
       "[0, 1, 2, 3, 4, 5, 6, 7, 8]"
      ]
     },
     "execution_count": 135,
     "metadata": {},
     "output_type": "execute_result"
    }
   ],
   "source": [
    "board_disp()"
   ]
  },
  {
   "cell_type": "code",
   "execution_count": 26,
   "id": "dc32a171",
   "metadata": {},
   "outputs": [],
   "source": [
    "def marker_select():\n",
    "    marker = ''\n",
    "    \n",
    "    while marker not in ['x','o']:  \n",
    "        \n",
    "        marker=input('player 1 select marker x or o: ')\n",
    "        \n",
    "        player1=marker\n",
    "        \n",
    "        if player1=='x':\n",
    "            player2='o'\n",
    "        else:\n",
    "            player2='x'          \n",
    "        \n",
    "    return player1,player2  \n",
    "    "
   ]
  },
  {
   "cell_type": "code",
   "execution_count": 27,
   "id": "cbf668a1",
   "metadata": {},
   "outputs": [
    {
     "name": "stdout",
     "output_type": "stream",
     "text": [
      "player 1 select marker x or o: x\n"
     ]
    }
   ],
   "source": [
    "player1marker,player2marker=marker_select()\n",
    "#print(player1, player2)"
   ]
  },
  {
   "cell_type": "code",
   "execution_count": 32,
   "id": "f67edfa1",
   "metadata": {},
   "outputs": [],
   "source": [
    "#user input \n",
    "    #validation of int and range. Either within a range or \"(e.g.) x in list=[1,2,3]\"\n",
    "def spot_select():\n",
    "    #could be any variable other than the numbers in the range needed\n",
    "    #initialize user input as wrong\n",
    "    user_in=\"\" \n",
    "\n",
    "    #checks if user input is digit within range\n",
    "    while user_in not in range(0,9): \n",
    "        \n",
    "        \n",
    "        user_in=input(\"choose a number between 0-8 (see board): \")\n",
    "        \n",
    "        #check if digit\n",
    "        if user_in.isdigit()and int(user_in) in range(0,9): #convert input string to int if input .isdigit()\n",
    "            user_in=int(user_in)\n",
    "            clear_output()\n",
    "            print(f'You\\'ve selected number {user_in}')\n",
    "            return user_in\n",
    "    \n",
    "        else:\n",
    "            print(f'{user_in} is not a numerical input or between 0 and 8')"
   ]
  },
  {
   "cell_type": "code",
   "execution_count": 36,
   "id": "74bee6e8",
   "metadata": {},
   "outputs": [
    {
     "name": "stdout",
     "output_type": "stream",
     "text": [
      "You've selected number 7\n"
     ]
    },
    {
     "data": {
      "text/plain": [
       "7"
      ]
     },
     "execution_count": 36,
     "metadata": {},
     "output_type": "execute_result"
    }
   ],
   "source": [
    "spot_select()"
   ]
  },
  {
   "cell_type": "code",
   "execution_count": 148,
   "id": "927b6c63",
   "metadata": {},
   "outputs": [],
   "source": [
    "#board display update given selected game_in index\n",
    "\n",
    "#board = board_disp() #returns the default list of list(range(0,9) into variable a)\n",
    "#print(a)\n",
    "\n",
    "def board_update():\n",
    "    \n",
    "    #selects player marker x or o. returns as tuple selection\n",
    "    player1marker,player2marker=marker_select()\n",
    "    \n",
    "    board_list=board_disp() #reinitilizes list as variable board_list everytime\n",
    "    \n",
    "    #initialize empty global string for current game marker ('x' or 'o'), and current round (start at 0)\n",
    "    current_marker=\"\"\n",
    "    round=1\n",
    "    \n",
    "    while set(board_list) != {'x','o'}:        \n",
    "        if round % 2 == 0:\n",
    "            player='player 2'\n",
    "            current_marker = player2marker\n",
    "            \n",
    "        else:\n",
    "            player='player 1'\n",
    "            current_marker = player1marker\n",
    "            \n",
    "        print(f'{player}, round {round}:')\n",
    "        \n",
    "        #call for user selection\n",
    "        user_input = spot_select()\n",
    "        \n",
    "    \n",
    "        #update cell\n",
    "        while board_list[user_input] in ['x','o']:\n",
    "            print('selection already made here, choose another cell')\n",
    "            user_input = spot_select()\n",
    "        \n",
    "        board_list[user_input]=current_marker\n",
    "        \n",
    "        board_disp(board_list)\n",
    "        \n",
    "        round += 1"
   ]
  },
  {
   "cell_type": "code",
   "execution_count": 149,
   "id": "e7ab03fb",
   "metadata": {},
   "outputs": [
    {
     "name": "stdout",
     "output_type": "stream",
     "text": [
      "Tic Tac Toe\n",
      " o   |  o   |  x  \n",
      " --------------\n",
      " o   |  o   |  o  \n",
      " --------------\n",
      " x   |  x   |  o  \n"
     ]
    }
   ],
   "source": [
    "board_update()"
   ]
  }
 ],
 "metadata": {
  "kernelspec": {
   "display_name": "Python 3 (ipykernel)",
   "language": "python",
   "name": "python3"
  },
  "language_info": {
   "codemirror_mode": {
    "name": "ipython",
    "version": 3
   },
   "file_extension": ".py",
   "mimetype": "text/x-python",
   "name": "python",
   "nbconvert_exporter": "python",
   "pygments_lexer": "ipython3",
   "version": "3.11.3"
  }
 },
 "nbformat": 4,
 "nbformat_minor": 5
}
