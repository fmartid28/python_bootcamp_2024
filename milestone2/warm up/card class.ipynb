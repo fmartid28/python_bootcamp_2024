{
 "cells": [
  {
   "cell_type": "markdown",
   "id": "7774058f",
   "metadata": {},
   "source": [
    "#card class\n",
    "#type of class (spaces, clubs, etc), rank/value"
   ]
  },
  {
   "cell_type": "code",
   "execution_count": null,
   "id": "d07062fb",
   "metadata": {},
   "outputs": [],
   "source": [
    "class cards():\n",
    "    \n",
    "    def __init__(self,suit,rank):\n",
    "        self.suit=suit\n",
    "        self.rank=rank"
   ]
  },
  {
   "cell_type": "markdown",
   "id": "c634c288",
   "metadata": {},
   "source": [
    "#deck class for the 52 unique card classes in a deck"
   ]
  },
  {
   "cell_type": "code",
   "execution_count": null,
   "id": "4a23b683",
   "metadata": {},
   "outputs": [],
   "source": []
  },
  {
   "cell_type": "markdown",
   "id": "e4864156",
   "metadata": {},
   "source": [
    "#player class for card selection"
   ]
  },
  {
   "cell_type": "code",
   "execution_count": null,
   "id": "fe3aa3c4",
   "metadata": {},
   "outputs": [],
   "source": []
  },
  {
   "cell_type": "code",
   "execution_count": null,
   "id": "be8c2885",
   "metadata": {},
   "outputs": [],
   "source": []
  }
 ],
 "metadata": {
  "kernelspec": {
   "display_name": "Python 3 (ipykernel)",
   "language": "python",
   "name": "python3"
  },
  "language_info": {
   "codemirror_mode": {
    "name": "ipython",
    "version": 3
   },
   "file_extension": ".py",
   "mimetype": "text/x-python",
   "name": "python",
   "nbconvert_exporter": "python",
   "pygments_lexer": "ipython3",
   "version": "3.11.3"
  }
 },
 "nbformat": 4,
 "nbformat_minor": 5
}
