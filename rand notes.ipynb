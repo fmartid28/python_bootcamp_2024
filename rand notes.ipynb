{
 "cells": [
  {
   "cell_type": "code",
   "execution_count": 7,
   "id": "827c5229",
   "metadata": {},
   "outputs": [],
   "source": [
    "a= \"hello\""
   ]
  },
  {
   "cell_type": "code",
   "execution_count": 10,
   "id": "cbf114f4",
   "metadata": {},
   "outputs": [
    {
     "data": {
      "text/plain": [
       "'h'"
      ]
     },
     "execution_count": 10,
     "metadata": {},
     "output_type": "execute_result"
    }
   ],
   "source": [
    "a[0]"
   ]
  },
  {
   "cell_type": "code",
   "execution_count": 11,
   "id": "fb9eede4",
   "metadata": {},
   "outputs": [
    {
     "ename": "SyntaxError",
     "evalue": "invalid syntax (1145722274.py, line 1)",
     "output_type": "error",
     "traceback": [
      "\u001b[0;36m  Cell \u001b[0;32mIn[11], line 1\u001b[0;36m\u001b[0m\n\u001b[0;31m    a[]\u001b[0m\n\u001b[0m      ^\u001b[0m\n\u001b[0;31mSyntaxError\u001b[0m\u001b[0;31m:\u001b[0m invalid syntax\n"
     ]
    }
   ],
   "source": [
    "a[]"
   ]
  },
  {
   "cell_type": "code",
   "execution_count": 12,
   "id": "7dd175de",
   "metadata": {},
   "outputs": [
    {
     "data": {
      "text/plain": [
       "'hello'"
      ]
     },
     "execution_count": 12,
     "metadata": {},
     "output_type": "execute_result"
    }
   ],
   "source": [
    "a[:]"
   ]
  },
  {
   "cell_type": "code",
   "execution_count": 13,
   "id": "9bed6985",
   "metadata": {},
   "outputs": [
    {
     "data": {
      "text/plain": [
       "234"
      ]
     },
     "execution_count": 13,
     "metadata": {},
     "output_type": "execute_result"
    }
   ],
   "source": [
    "[0,123,234,234][3]"
   ]
  },
  {
   "cell_type": "code",
   "execution_count": 30,
   "id": "35f43e95",
   "metadata": {},
   "outputs": [],
   "source": [
    "d={'a':2, 'b':2,'c':3}"
   ]
  },
  {
   "cell_type": "code",
   "execution_count": 20,
   "id": "f97d2dd8",
   "metadata": {},
   "outputs": [
    {
     "data": {
      "text/plain": [
       "2"
      ]
     },
     "execution_count": 20,
     "metadata": {},
     "output_type": "execute_result"
    }
   ],
   "source": [
    "d['a']"
   ]
  },
  {
   "cell_type": "code",
   "execution_count": 21,
   "id": "905f236f",
   "metadata": {},
   "outputs": [
    {
     "data": {
      "text/plain": [
       "2"
      ]
     },
     "execution_count": 21,
     "metadata": {},
     "output_type": "execute_result"
    }
   ],
   "source": [
    "b='a'\n",
    "d[b]"
   ]
  },
  {
   "cell_type": "code",
   "execution_count": 22,
   "id": "70d9416b",
   "metadata": {},
   "outputs": [
    {
     "data": {
      "text/plain": [
       "3"
      ]
     },
     "execution_count": 22,
     "metadata": {},
     "output_type": "execute_result"
    }
   ],
   "source": [
    "len(d)"
   ]
  },
  {
   "cell_type": "code",
   "execution_count": 31,
   "id": "93853513",
   "metadata": {},
   "outputs": [
    {
     "name": "stdout",
     "output_type": "stream",
     "text": [
      "('a', 2)\n",
      "('b', 2)\n",
      "('c', 3)\n"
     ]
    }
   ],
   "source": [
    "#objects with sequences are iterable over each item in said object\n",
    "#strings, lists, tuples, dictionaries, etc\n",
    "    #strings are interable over every character in the string, keys in dictionary, values in dictionary, etc\n",
    "    \n",
    "for i in d.items():\n",
    "    print(i)"
   ]
  },
  {
   "cell_type": "code",
   "execution_count": 32,
   "id": "c367d49b",
   "metadata": {},
   "outputs": [
    {
     "ename": "ValueError",
     "evalue": "not enough values to unpack (expected 2, got 1)",
     "output_type": "error",
     "traceback": [
      "\u001b[0;31m---------------------------------------------------------------------------\u001b[0m",
      "\u001b[0;31mValueError\u001b[0m                                Traceback (most recent call last)",
      "Cell \u001b[0;32mIn[32], line 2\u001b[0m\n\u001b[1;32m      1\u001b[0m a\u001b[38;5;241m=\u001b[39m\u001b[38;5;124m'\u001b[39m\u001b[38;5;124mhello\u001b[39m\u001b[38;5;124m'\u001b[39m\n\u001b[0;32m----> 2\u001b[0m \u001b[38;5;28;01mfor\u001b[39;00m (a,b) \u001b[38;5;129;01min\u001b[39;00m a:\n\u001b[1;32m      3\u001b[0m     \u001b[38;5;28mprint\u001b[39m(a)\n\u001b[1;32m      4\u001b[0m     \u001b[38;5;28mprint\u001b[39m(b)\n",
      "\u001b[0;31mValueError\u001b[0m: not enough values to unpack (expected 2, got 1)"
     ]
    }
   ],
   "source": [
    "a='hello'\n",
    "for (a,b) in a:\n",
    "    print(a)\n",
    "    print(b)"
   ]
  },
  {
   "cell_type": "code",
   "execution_count": 33,
   "id": "4616b882",
   "metadata": {},
   "outputs": [
    {
     "name": "stdout",
     "output_type": "stream",
     "text": [
      "(1, 2)\n",
      "(2, 3)\n",
      "(4, 5)\n"
     ]
    }
   ],
   "source": [
    "#tuple unpacking\n",
    "#provide variables equal to size of tuple within list. e.g. list with tuple pairs\n",
    "list1=[(1,2),(2,3),(4,5)]\n",
    "#normal\n",
    "for items in list1:\n",
    "    print(items)"
   ]
  },
  {
   "cell_type": "code",
   "execution_count": 40,
   "id": "9b3ab09d",
   "metadata": {},
   "outputs": [
    {
     "name": "stdout",
     "output_type": "stream",
     "text": [
      "1\n",
      "2\n",
      "\n",
      "2\n",
      "3\n",
      "\n",
      "4\n",
      "5\n",
      "\n",
      "breh\n"
     ]
    }
   ],
   "source": [
    "for a,b in list1:\n",
    "    print(a)\n",
    "    print(f'{b}\\n')\n",
    "else:\n",
    "    print(\"breh\")"
   ]
  },
  {
   "cell_type": "code",
   "execution_count": 39,
   "id": "a0b4785e",
   "metadata": {},
   "outputs": [
    {
     "name": "stdout",
     "output_type": "stream",
     "text": [
      "2\n",
      "3\n",
      "5\n"
     ]
    }
   ],
   "source": [
    "for a,b in list1:\n",
    "    print(b)"
   ]
  },
  {
   "cell_type": "code",
   "execution_count": 41,
   "id": "9a595aa2",
   "metadata": {},
   "outputs": [
    {
     "ename": "IndentationError",
     "evalue": "expected an indented block after 'while' statement on line 2 (3000133361.py, line 4)",
     "output_type": "error",
     "traceback": [
      "\u001b[0;36m  Cell \u001b[0;32mIn[41], line 4\u001b[0;36m\u001b[0m\n\u001b[0;31m    else: #when no longer true\u001b[0m\n\u001b[0m    ^\u001b[0m\n\u001b[0;31mIndentationError\u001b[0m\u001b[0;31m:\u001b[0m expected an indented block after 'while' statement on line 2\n"
     ]
    }
   ],
   "source": [
    "#while loops will execute code block while true\n",
    "while some_bool_condition:\n",
    "    #do something\n",
    "else: #when no longer true"
   ]
  },
  {
   "cell_type": "code",
   "execution_count": 52,
   "id": "fe5bf348",
   "metadata": {},
   "outputs": [
    {
     "data": {
      "text/plain": [
       "[0, None, 4]"
      ]
     },
     "execution_count": 52,
     "metadata": {},
     "output_type": "execute_result"
    }
   ],
   "source": [
    "#list comprehensions\n",
    "L1=[i**2 if i%2==0 else None for i in range(3)]\n",
    "L1"
   ]
  },
  {
   "cell_type": "code",
   "execution_count": null,
   "id": "d5da596a",
   "metadata": {},
   "outputs": [],
   "source": []
  }
 ],
 "metadata": {
  "kernelspec": {
   "display_name": "Python 3 (ipykernel)",
   "language": "python",
   "name": "python3"
  },
  "language_info": {
   "codemirror_mode": {
    "name": "ipython",
    "version": 3
   },
   "file_extension": ".py",
   "mimetype": "text/x-python",
   "name": "python",
   "nbconvert_exporter": "python",
   "pygments_lexer": "ipython3",
   "version": "3.11.3"
  }
 },
 "nbformat": 4,
 "nbformat_minor": 5
}
